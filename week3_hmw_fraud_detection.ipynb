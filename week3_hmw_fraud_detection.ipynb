{
 "cells": [
  {
   "cell_type": "markdown",
   "metadata": {},
   "source": [
    "# Week #3 Homework: Fraud Detection\n",
    "---\n",
    "\n",
    "### Laura A. Dahlberg   2019-09-14"
   ]
  },
  {
   "cell_type": "markdown",
   "metadata": {},
   "source": [
    "In this assignment, we'll train a model with pandas, seaborn and scikit-learn to create a fraud detection classifier.\n",
    "\n",
    "Instructions:\n",
    "\n",
    "Build a logistic regression model using Scikit-learn to predict fraudulent transactions by training it on this kaggle dataset. Before you train the model, create at least 1 visualization of the data using the seaborn library of your choice.\n",
    "\n",
    "---\n",
    "\n",
    "The FIRST thing before starting, is to understand the problem and what you want the model to do\n",
    "\n",
    "pre-machine learning:\n",
    "\n",
    "1. get data\n",
    "1. read data\n",
    "1. normalize the data\n",
    "    1. try the sklearn preprocessing module (min_max_scaler)\n",
    "\n",
    "1. explore/visualize data\n",
    "\n",
    "machine learning:\n",
    "1. (optional) create features \n",
    "1. use regularization to correct/prevent overfitting\n",
    "1. split the data train vs. test\n",
    "    1. try different percentages splits\n",
    "    1. using sklearn.model_selection.train_test_split\n",
    "\n",
    "Build a model(s) appropriate for the problem: try a couple different models\n",
    "1. Logistic Regression (used mostly for classification)\n",
    "1. Random Forest Classification\n"
   ]
  },
  {
   "cell_type": "code",
   "execution_count": 1,
   "metadata": {},
   "outputs": [],
   "source": [
    "import numpy as np\n",
    "import sklearn as sk\n",
    "import pandas as pd\n",
    "import matplotlib.pyplot as plt\n",
    "from sklearn.preprocessing import scale\n",
    "import random\n",
    "from pathlib import Path\n",
    "\n",
    "import seaborn as sns\n",
    "import os"
   ]
  },
  {
   "cell_type": "markdown",
   "metadata": {},
   "source": [
    "### Setting up project"
   ]
  },
  {
   "cell_type": "code",
   "execution_count": 2,
   "metadata": {},
   "outputs": [],
   "source": [
    "## creating relative paths\n",
    "PROJ = Path().cwd()\n",
    "\n",
    "DATA = PROJ/'data'\n",
    "## creating a \"data\" folder, if it doesn't exist\n",
    "DATA.mkdir(exist_ok=True)"
   ]
  },
  {
   "cell_type": "markdown",
   "metadata": {},
   "source": [
    "### Reading the data\n"
   ]
  },
  {
   "cell_type": "code",
   "execution_count": 3,
   "metadata": {
    "scrolled": true
   },
   "outputs": [
    {
     "data": {
      "text/html": [
       "<div>\n",
       "<style scoped>\n",
       "    .dataframe tbody tr th:only-of-type {\n",
       "        vertical-align: middle;\n",
       "    }\n",
       "\n",
       "    .dataframe tbody tr th {\n",
       "        vertical-align: top;\n",
       "    }\n",
       "\n",
       "    .dataframe thead th {\n",
       "        text-align: right;\n",
       "    }\n",
       "</style>\n",
       "<table border=\"1\" class=\"dataframe\">\n",
       "  <thead>\n",
       "    <tr style=\"text-align: right;\">\n",
       "      <th></th>\n",
       "      <th>Time</th>\n",
       "      <th>V1</th>\n",
       "      <th>V2</th>\n",
       "      <th>V3</th>\n",
       "      <th>V4</th>\n",
       "      <th>V5</th>\n",
       "      <th>V6</th>\n",
       "      <th>V7</th>\n",
       "      <th>V8</th>\n",
       "      <th>V9</th>\n",
       "      <th>...</th>\n",
       "      <th>V21</th>\n",
       "      <th>V22</th>\n",
       "      <th>V23</th>\n",
       "      <th>V24</th>\n",
       "      <th>V25</th>\n",
       "      <th>V26</th>\n",
       "      <th>V27</th>\n",
       "      <th>V28</th>\n",
       "      <th>Amount</th>\n",
       "      <th>Class</th>\n",
       "    </tr>\n",
       "  </thead>\n",
       "  <tbody>\n",
       "    <tr>\n",
       "      <th>0</th>\n",
       "      <td>30048.0</td>\n",
       "      <td>-0.472038</td>\n",
       "      <td>0.296505</td>\n",
       "      <td>1.637535</td>\n",
       "      <td>0.394587</td>\n",
       "      <td>-0.878635</td>\n",
       "      <td>1.062017</td>\n",
       "      <td>-0.785093</td>\n",
       "      <td>0.953230</td>\n",
       "      <td>0.924704</td>\n",
       "      <td>...</td>\n",
       "      <td>-0.069709</td>\n",
       "      <td>0.057555</td>\n",
       "      <td>-0.052266</td>\n",
       "      <td>-0.454140</td>\n",
       "      <td>-0.314293</td>\n",
       "      <td>0.316739</td>\n",
       "      <td>-0.039378</td>\n",
       "      <td>-0.034203</td>\n",
       "      <td>22.98</td>\n",
       "      <td>0</td>\n",
       "    </tr>\n",
       "    <tr>\n",
       "      <th>1</th>\n",
       "      <td>135776.0</td>\n",
       "      <td>1.974817</td>\n",
       "      <td>-0.504077</td>\n",
       "      <td>-0.521839</td>\n",
       "      <td>0.160801</td>\n",
       "      <td>-0.266749</td>\n",
       "      <td>0.493407</td>\n",
       "      <td>-0.807450</td>\n",
       "      <td>0.214887</td>\n",
       "      <td>0.963512</td>\n",
       "      <td>...</td>\n",
       "      <td>0.188833</td>\n",
       "      <td>0.718387</td>\n",
       "      <td>0.132076</td>\n",
       "      <td>0.288610</td>\n",
       "      <td>-0.234283</td>\n",
       "      <td>0.546763</td>\n",
       "      <td>-0.023063</td>\n",
       "      <td>-0.053826</td>\n",
       "      <td>11.50</td>\n",
       "      <td>0</td>\n",
       "    </tr>\n",
       "    <tr>\n",
       "      <th>2</th>\n",
       "      <td>147848.0</td>\n",
       "      <td>1.839223</td>\n",
       "      <td>-0.747924</td>\n",
       "      <td>0.022670</td>\n",
       "      <td>0.219179</td>\n",
       "      <td>-0.751046</td>\n",
       "      <td>0.647023</td>\n",
       "      <td>-1.140823</td>\n",
       "      <td>0.322167</td>\n",
       "      <td>1.431155</td>\n",
       "      <td>...</td>\n",
       "      <td>0.302914</td>\n",
       "      <td>0.933043</td>\n",
       "      <td>0.126366</td>\n",
       "      <td>0.376760</td>\n",
       "      <td>-0.323793</td>\n",
       "      <td>-0.308130</td>\n",
       "      <td>0.057832</td>\n",
       "      <td>-0.019472</td>\n",
       "      <td>58.70</td>\n",
       "      <td>0</td>\n",
       "    </tr>\n",
       "    <tr>\n",
       "      <th>3</th>\n",
       "      <td>62011.0</td>\n",
       "      <td>-0.346484</td>\n",
       "      <td>0.994210</td>\n",
       "      <td>1.289982</td>\n",
       "      <td>-0.092049</td>\n",
       "      <td>0.794001</td>\n",
       "      <td>0.369367</td>\n",
       "      <td>0.599866</td>\n",
       "      <td>0.048422</td>\n",
       "      <td>-1.056777</td>\n",
       "      <td>...</td>\n",
       "      <td>-0.192821</td>\n",
       "      <td>-0.556364</td>\n",
       "      <td>-0.263634</td>\n",
       "      <td>-0.996888</td>\n",
       "      <td>-0.066622</td>\n",
       "      <td>0.236123</td>\n",
       "      <td>0.070509</td>\n",
       "      <td>0.087570</td>\n",
       "      <td>1.98</td>\n",
       "      <td>0</td>\n",
       "    </tr>\n",
       "    <tr>\n",
       "      <th>4</th>\n",
       "      <td>168173.0</td>\n",
       "      <td>0.117493</td>\n",
       "      <td>1.019572</td>\n",
       "      <td>-0.522039</td>\n",
       "      <td>-0.756376</td>\n",
       "      <td>1.240656</td>\n",
       "      <td>-0.201109</td>\n",
       "      <td>0.909493</td>\n",
       "      <td>0.039980</td>\n",
       "      <td>-0.403188</td>\n",
       "      <td>...</td>\n",
       "      <td>-0.297799</td>\n",
       "      <td>-0.701470</td>\n",
       "      <td>0.040039</td>\n",
       "      <td>0.138364</td>\n",
       "      <td>-0.390632</td>\n",
       "      <td>0.119619</td>\n",
       "      <td>0.225697</td>\n",
       "      <td>0.071782</td>\n",
       "      <td>4.99</td>\n",
       "      <td>0</td>\n",
       "    </tr>\n",
       "  </tbody>\n",
       "</table>\n",
       "<p>5 rows × 31 columns</p>\n",
       "</div>"
      ],
      "text/plain": [
       "       Time        V1        V2        V3        V4        V5        V6  \\\n",
       "0   30048.0 -0.472038  0.296505  1.637535  0.394587 -0.878635  1.062017   \n",
       "1  135776.0  1.974817 -0.504077 -0.521839  0.160801 -0.266749  0.493407   \n",
       "2  147848.0  1.839223 -0.747924  0.022670  0.219179 -0.751046  0.647023   \n",
       "3   62011.0 -0.346484  0.994210  1.289982 -0.092049  0.794001  0.369367   \n",
       "4  168173.0  0.117493  1.019572 -0.522039 -0.756376  1.240656 -0.201109   \n",
       "\n",
       "         V7        V8        V9  ...       V21       V22       V23       V24  \\\n",
       "0 -0.785093  0.953230  0.924704  ... -0.069709  0.057555 -0.052266 -0.454140   \n",
       "1 -0.807450  0.214887  0.963512  ...  0.188833  0.718387  0.132076  0.288610   \n",
       "2 -1.140823  0.322167  1.431155  ...  0.302914  0.933043  0.126366  0.376760   \n",
       "3  0.599866  0.048422 -1.056777  ... -0.192821 -0.556364 -0.263634 -0.996888   \n",
       "4  0.909493  0.039980 -0.403188  ... -0.297799 -0.701470  0.040039  0.138364   \n",
       "\n",
       "        V25       V26       V27       V28  Amount  Class  \n",
       "0 -0.314293  0.316739 -0.039378 -0.034203   22.98      0  \n",
       "1 -0.234283  0.546763 -0.023063 -0.053826   11.50      0  \n",
       "2 -0.323793 -0.308130  0.057832 -0.019472   58.70      0  \n",
       "3 -0.066622  0.236123  0.070509  0.087570    1.98      0  \n",
       "4 -0.390632  0.119619  0.225697  0.071782    4.99      0  \n",
       "\n",
       "[5 rows x 31 columns]"
      ]
     },
     "metadata": {},
     "output_type": "display_data"
    },
    {
     "name": "stdout",
     "output_type": "stream",
     "text": [
      "<class 'pandas.core.frame.DataFrame'>\n",
      "RangeIndex: 284807 entries, 0 to 284806\n",
      "Data columns (total 31 columns):\n",
      "Time      284807 non-null float64\n",
      "V1        284807 non-null float64\n",
      "V2        284807 non-null float64\n",
      "V3        284807 non-null float64\n",
      "V4        284807 non-null float64\n",
      "V5        284807 non-null float64\n",
      "V6        284807 non-null float64\n",
      "V7        284807 non-null float64\n",
      "V8        284807 non-null float64\n",
      "V9        284807 non-null float64\n",
      "V10       284807 non-null float64\n",
      "V11       284807 non-null float64\n",
      "V12       284807 non-null float64\n",
      "V13       284807 non-null float64\n",
      "V14       284807 non-null float64\n",
      "V15       284807 non-null float64\n",
      "V16       284807 non-null float64\n",
      "V17       284807 non-null float64\n",
      "V18       284807 non-null float64\n",
      "V19       284807 non-null float64\n",
      "V20       284807 non-null float64\n",
      "V21       284807 non-null float64\n",
      "V22       284807 non-null float64\n",
      "V23       284807 non-null float64\n",
      "V24       284807 non-null float64\n",
      "V25       284807 non-null float64\n",
      "V26       284807 non-null float64\n",
      "V27       284807 non-null float64\n",
      "V28       284807 non-null float64\n",
      "Amount    284807 non-null float64\n",
      "Class     284807 non-null int64\n",
      "dtypes: float64(30), int64(1)\n",
      "memory usage: 67.4 MB\n"
     ]
    }
   ],
   "source": [
    "# df = pd.read_csv(DATA/'creditcard.csv') ## this is the whole file\n",
    "df = pd.read_csv(DATA/'creditcard_sample.csv') ## this is the sample file for github\n",
    "\n",
    "df = df.sample(frac=1).reset_index(drop=True)\n",
    "display(df.head())\n",
    "df.info()"
   ]
  },
  {
   "cell_type": "markdown",
   "metadata": {},
   "source": [
    "### Exploring the data"
   ]
  },
  {
   "cell_type": "code",
   "execution_count": 4,
   "metadata": {},
   "outputs": [
    {
     "name": "stdout",
     "output_type": "stream",
     "text": [
      "492\n",
      "284315\n"
     ]
    }
   ],
   "source": [
    "# Counting number of frauds vs. non-frauds\n",
    "fraud = df.loc[df['Class'] ==1]\n",
    "non_frauds = df.loc[df['Class'] == 0]\n",
    "print(len(fraud))\n",
    "print(len(non_frauds))"
   ]
  },
  {
   "cell_type": "code",
   "execution_count": 5,
   "metadata": {},
   "outputs": [],
   "source": [
    "## This was done one time to not have to upload the whole file to github\n",
    "## making a sample file for github\n",
    "# sample = pd.concat([fraud, non_frauds.sample(20000)], axis=0)\n",
    "#sample.info()\n",
    "\n",
    "## saving dataframe as a csv file in the DATA directory\n",
    "# sample.to_csv(DATA/'creditcard_sample.csv', index=False)"
   ]
  },
  {
   "cell_type": "code",
   "execution_count": null,
   "metadata": {},
   "outputs": [],
   "source": []
  },
  {
   "cell_type": "code",
   "execution_count": 6,
   "metadata": {},
   "outputs": [
    {
     "data": {
      "text/html": [
       "<div>\n",
       "<style scoped>\n",
       "    .dataframe tbody tr th:only-of-type {\n",
       "        vertical-align: middle;\n",
       "    }\n",
       "\n",
       "    .dataframe tbody tr th {\n",
       "        vertical-align: top;\n",
       "    }\n",
       "\n",
       "    .dataframe thead th {\n",
       "        text-align: right;\n",
       "    }\n",
       "</style>\n",
       "<table border=\"1\" class=\"dataframe\">\n",
       "  <thead>\n",
       "    <tr style=\"text-align: right;\">\n",
       "      <th></th>\n",
       "      <th>count</th>\n",
       "      <th>mean</th>\n",
       "      <th>std</th>\n",
       "      <th>min</th>\n",
       "      <th>25%</th>\n",
       "      <th>50%</th>\n",
       "      <th>75%</th>\n",
       "      <th>max</th>\n",
       "    </tr>\n",
       "  </thead>\n",
       "  <tbody>\n",
       "    <tr>\n",
       "      <th>Time</th>\n",
       "      <td>284807.0</td>\n",
       "      <td>9.481386e+04</td>\n",
       "      <td>47488.145955</td>\n",
       "      <td>0.000000</td>\n",
       "      <td>54201.500000</td>\n",
       "      <td>84692.000000</td>\n",
       "      <td>139320.500000</td>\n",
       "      <td>172792.000000</td>\n",
       "    </tr>\n",
       "    <tr>\n",
       "      <th>V1</th>\n",
       "      <td>284807.0</td>\n",
       "      <td>1.230354e-15</td>\n",
       "      <td>1.958696</td>\n",
       "      <td>-56.407510</td>\n",
       "      <td>-0.920373</td>\n",
       "      <td>0.018109</td>\n",
       "      <td>1.315642</td>\n",
       "      <td>2.454930</td>\n",
       "    </tr>\n",
       "    <tr>\n",
       "      <th>V2</th>\n",
       "      <td>284807.0</td>\n",
       "      <td>3.489944e-16</td>\n",
       "      <td>1.651309</td>\n",
       "      <td>-72.715728</td>\n",
       "      <td>-0.598550</td>\n",
       "      <td>0.065486</td>\n",
       "      <td>0.803724</td>\n",
       "      <td>22.057729</td>\n",
       "    </tr>\n",
       "    <tr>\n",
       "      <th>V3</th>\n",
       "      <td>284807.0</td>\n",
       "      <td>-1.423891e-15</td>\n",
       "      <td>1.516255</td>\n",
       "      <td>-48.325589</td>\n",
       "      <td>-0.890365</td>\n",
       "      <td>0.179846</td>\n",
       "      <td>1.027196</td>\n",
       "      <td>9.382558</td>\n",
       "    </tr>\n",
       "    <tr>\n",
       "      <th>V4</th>\n",
       "      <td>284807.0</td>\n",
       "      <td>2.103233e-15</td>\n",
       "      <td>1.415869</td>\n",
       "      <td>-5.683171</td>\n",
       "      <td>-0.848640</td>\n",
       "      <td>-0.019847</td>\n",
       "      <td>0.743341</td>\n",
       "      <td>16.875344</td>\n",
       "    </tr>\n",
       "    <tr>\n",
       "      <th>V5</th>\n",
       "      <td>284807.0</td>\n",
       "      <td>1.004144e-15</td>\n",
       "      <td>1.380247</td>\n",
       "      <td>-113.743307</td>\n",
       "      <td>-0.691597</td>\n",
       "      <td>-0.054336</td>\n",
       "      <td>0.611926</td>\n",
       "      <td>34.801666</td>\n",
       "    </tr>\n",
       "    <tr>\n",
       "      <th>V6</th>\n",
       "      <td>284807.0</td>\n",
       "      <td>1.476316e-15</td>\n",
       "      <td>1.332271</td>\n",
       "      <td>-26.160506</td>\n",
       "      <td>-0.768296</td>\n",
       "      <td>-0.274187</td>\n",
       "      <td>0.398565</td>\n",
       "      <td>73.301626</td>\n",
       "    </tr>\n",
       "    <tr>\n",
       "      <th>V7</th>\n",
       "      <td>284807.0</td>\n",
       "      <td>-5.780643e-16</td>\n",
       "      <td>1.237094</td>\n",
       "      <td>-43.557242</td>\n",
       "      <td>-0.554076</td>\n",
       "      <td>0.040103</td>\n",
       "      <td>0.570436</td>\n",
       "      <td>120.589494</td>\n",
       "    </tr>\n",
       "    <tr>\n",
       "      <th>V8</th>\n",
       "      <td>284807.0</td>\n",
       "      <td>7.155617e-17</td>\n",
       "      <td>1.194353</td>\n",
       "      <td>-73.216718</td>\n",
       "      <td>-0.208630</td>\n",
       "      <td>0.022358</td>\n",
       "      <td>0.327346</td>\n",
       "      <td>20.007208</td>\n",
       "    </tr>\n",
       "    <tr>\n",
       "      <th>V9</th>\n",
       "      <td>284807.0</td>\n",
       "      <td>-2.419195e-15</td>\n",
       "      <td>1.098632</td>\n",
       "      <td>-13.434066</td>\n",
       "      <td>-0.643098</td>\n",
       "      <td>-0.051429</td>\n",
       "      <td>0.597139</td>\n",
       "      <td>15.594995</td>\n",
       "    </tr>\n",
       "    <tr>\n",
       "      <th>V10</th>\n",
       "      <td>284807.0</td>\n",
       "      <td>2.232414e-15</td>\n",
       "      <td>1.088850</td>\n",
       "      <td>-24.588262</td>\n",
       "      <td>-0.535426</td>\n",
       "      <td>-0.092917</td>\n",
       "      <td>0.453923</td>\n",
       "      <td>23.745136</td>\n",
       "    </tr>\n",
       "    <tr>\n",
       "      <th>V11</th>\n",
       "      <td>284807.0</td>\n",
       "      <td>1.719886e-15</td>\n",
       "      <td>1.020713</td>\n",
       "      <td>-4.797473</td>\n",
       "      <td>-0.762494</td>\n",
       "      <td>-0.032757</td>\n",
       "      <td>0.739593</td>\n",
       "      <td>12.018913</td>\n",
       "    </tr>\n",
       "    <tr>\n",
       "      <th>V12</th>\n",
       "      <td>284807.0</td>\n",
       "      <td>-1.250942e-15</td>\n",
       "      <td>0.999201</td>\n",
       "      <td>-18.683715</td>\n",
       "      <td>-0.405571</td>\n",
       "      <td>0.140033</td>\n",
       "      <td>0.618238</td>\n",
       "      <td>7.848392</td>\n",
       "    </tr>\n",
       "    <tr>\n",
       "      <th>V13</th>\n",
       "      <td>284807.0</td>\n",
       "      <td>8.227650e-16</td>\n",
       "      <td>0.995274</td>\n",
       "      <td>-5.791881</td>\n",
       "      <td>-0.648539</td>\n",
       "      <td>-0.013568</td>\n",
       "      <td>0.662505</td>\n",
       "      <td>7.126883</td>\n",
       "    </tr>\n",
       "    <tr>\n",
       "      <th>V14</th>\n",
       "      <td>284807.0</td>\n",
       "      <td>1.206683e-15</td>\n",
       "      <td>0.958596</td>\n",
       "      <td>-19.214325</td>\n",
       "      <td>-0.425574</td>\n",
       "      <td>0.050601</td>\n",
       "      <td>0.493150</td>\n",
       "      <td>10.526766</td>\n",
       "    </tr>\n",
       "    <tr>\n",
       "      <th>V15</th>\n",
       "      <td>284807.0</td>\n",
       "      <td>4.870890e-15</td>\n",
       "      <td>0.915316</td>\n",
       "      <td>-4.498945</td>\n",
       "      <td>-0.582884</td>\n",
       "      <td>0.048072</td>\n",
       "      <td>0.648821</td>\n",
       "      <td>8.877742</td>\n",
       "    </tr>\n",
       "    <tr>\n",
       "      <th>V16</th>\n",
       "      <td>284807.0</td>\n",
       "      <td>1.438308e-15</td>\n",
       "      <td>0.876253</td>\n",
       "      <td>-14.129855</td>\n",
       "      <td>-0.468037</td>\n",
       "      <td>0.066413</td>\n",
       "      <td>0.523296</td>\n",
       "      <td>17.315112</td>\n",
       "    </tr>\n",
       "    <tr>\n",
       "      <th>V17</th>\n",
       "      <td>284807.0</td>\n",
       "      <td>-3.703029e-16</td>\n",
       "      <td>0.849337</td>\n",
       "      <td>-25.162799</td>\n",
       "      <td>-0.483748</td>\n",
       "      <td>-0.065676</td>\n",
       "      <td>0.399675</td>\n",
       "      <td>9.253526</td>\n",
       "    </tr>\n",
       "    <tr>\n",
       "      <th>V18</th>\n",
       "      <td>284807.0</td>\n",
       "      <td>9.661927e-16</td>\n",
       "      <td>0.838176</td>\n",
       "      <td>-9.498746</td>\n",
       "      <td>-0.498850</td>\n",
       "      <td>-0.003636</td>\n",
       "      <td>0.500807</td>\n",
       "      <td>5.041069</td>\n",
       "    </tr>\n",
       "    <tr>\n",
       "      <th>V19</th>\n",
       "      <td>284807.0</td>\n",
       "      <td>1.011277e-15</td>\n",
       "      <td>0.814041</td>\n",
       "      <td>-7.213527</td>\n",
       "      <td>-0.456299</td>\n",
       "      <td>0.003735</td>\n",
       "      <td>0.458949</td>\n",
       "      <td>5.591971</td>\n",
       "    </tr>\n",
       "    <tr>\n",
       "      <th>V20</th>\n",
       "      <td>284807.0</td>\n",
       "      <td>6.325855e-16</td>\n",
       "      <td>0.770925</td>\n",
       "      <td>-54.497720</td>\n",
       "      <td>-0.211721</td>\n",
       "      <td>-0.062481</td>\n",
       "      <td>0.133041</td>\n",
       "      <td>39.420904</td>\n",
       "    </tr>\n",
       "    <tr>\n",
       "      <th>V21</th>\n",
       "      <td>284807.0</td>\n",
       "      <td>1.441865e-16</td>\n",
       "      <td>0.734524</td>\n",
       "      <td>-34.830382</td>\n",
       "      <td>-0.228395</td>\n",
       "      <td>-0.029450</td>\n",
       "      <td>0.186377</td>\n",
       "      <td>27.202839</td>\n",
       "    </tr>\n",
       "    <tr>\n",
       "      <th>V22</th>\n",
       "      <td>284807.0</td>\n",
       "      <td>-3.080781e-16</td>\n",
       "      <td>0.725702</td>\n",
       "      <td>-10.933144</td>\n",
       "      <td>-0.542350</td>\n",
       "      <td>0.006782</td>\n",
       "      <td>0.528554</td>\n",
       "      <td>10.503090</td>\n",
       "    </tr>\n",
       "    <tr>\n",
       "      <th>V23</th>\n",
       "      <td>284807.0</td>\n",
       "      <td>2.557386e-16</td>\n",
       "      <td>0.624460</td>\n",
       "      <td>-44.807735</td>\n",
       "      <td>-0.161846</td>\n",
       "      <td>-0.011193</td>\n",
       "      <td>0.147642</td>\n",
       "      <td>22.528412</td>\n",
       "    </tr>\n",
       "    <tr>\n",
       "      <th>V24</th>\n",
       "      <td>284807.0</td>\n",
       "      <td>4.476116e-15</td>\n",
       "      <td>0.605647</td>\n",
       "      <td>-2.836627</td>\n",
       "      <td>-0.354586</td>\n",
       "      <td>0.040976</td>\n",
       "      <td>0.439527</td>\n",
       "      <td>4.584549</td>\n",
       "    </tr>\n",
       "    <tr>\n",
       "      <th>V25</th>\n",
       "      <td>284807.0</td>\n",
       "      <td>5.448758e-16</td>\n",
       "      <td>0.521278</td>\n",
       "      <td>-10.295397</td>\n",
       "      <td>-0.317145</td>\n",
       "      <td>0.016594</td>\n",
       "      <td>0.350716</td>\n",
       "      <td>7.519589</td>\n",
       "    </tr>\n",
       "    <tr>\n",
       "      <th>V26</th>\n",
       "      <td>284807.0</td>\n",
       "      <td>1.684570e-15</td>\n",
       "      <td>0.482227</td>\n",
       "      <td>-2.604551</td>\n",
       "      <td>-0.326984</td>\n",
       "      <td>-0.052139</td>\n",
       "      <td>0.240952</td>\n",
       "      <td>3.517346</td>\n",
       "    </tr>\n",
       "    <tr>\n",
       "      <th>V27</th>\n",
       "      <td>284807.0</td>\n",
       "      <td>-3.661673e-16</td>\n",
       "      <td>0.403632</td>\n",
       "      <td>-22.565679</td>\n",
       "      <td>-0.070840</td>\n",
       "      <td>0.001342</td>\n",
       "      <td>0.091045</td>\n",
       "      <td>31.612198</td>\n",
       "    </tr>\n",
       "    <tr>\n",
       "      <th>V28</th>\n",
       "      <td>284807.0</td>\n",
       "      <td>-1.242647e-16</td>\n",
       "      <td>0.330083</td>\n",
       "      <td>-15.430084</td>\n",
       "      <td>-0.052960</td>\n",
       "      <td>0.011244</td>\n",
       "      <td>0.078280</td>\n",
       "      <td>33.847808</td>\n",
       "    </tr>\n",
       "    <tr>\n",
       "      <th>Amount</th>\n",
       "      <td>284807.0</td>\n",
       "      <td>8.834962e+01</td>\n",
       "      <td>250.120109</td>\n",
       "      <td>0.000000</td>\n",
       "      <td>5.600000</td>\n",
       "      <td>22.000000</td>\n",
       "      <td>77.165000</td>\n",
       "      <td>25691.160000</td>\n",
       "    </tr>\n",
       "    <tr>\n",
       "      <th>Class</th>\n",
       "      <td>284807.0</td>\n",
       "      <td>1.727486e-03</td>\n",
       "      <td>0.041527</td>\n",
       "      <td>0.000000</td>\n",
       "      <td>0.000000</td>\n",
       "      <td>0.000000</td>\n",
       "      <td>0.000000</td>\n",
       "      <td>1.000000</td>\n",
       "    </tr>\n",
       "  </tbody>\n",
       "</table>\n",
       "</div>"
      ],
      "text/plain": [
       "           count          mean           std         min           25%  \\\n",
       "Time    284807.0  9.481386e+04  47488.145955    0.000000  54201.500000   \n",
       "V1      284807.0  1.230354e-15      1.958696  -56.407510     -0.920373   \n",
       "V2      284807.0  3.489944e-16      1.651309  -72.715728     -0.598550   \n",
       "V3      284807.0 -1.423891e-15      1.516255  -48.325589     -0.890365   \n",
       "V4      284807.0  2.103233e-15      1.415869   -5.683171     -0.848640   \n",
       "V5      284807.0  1.004144e-15      1.380247 -113.743307     -0.691597   \n",
       "V6      284807.0  1.476316e-15      1.332271  -26.160506     -0.768296   \n",
       "V7      284807.0 -5.780643e-16      1.237094  -43.557242     -0.554076   \n",
       "V8      284807.0  7.155617e-17      1.194353  -73.216718     -0.208630   \n",
       "V9      284807.0 -2.419195e-15      1.098632  -13.434066     -0.643098   \n",
       "V10     284807.0  2.232414e-15      1.088850  -24.588262     -0.535426   \n",
       "V11     284807.0  1.719886e-15      1.020713   -4.797473     -0.762494   \n",
       "V12     284807.0 -1.250942e-15      0.999201  -18.683715     -0.405571   \n",
       "V13     284807.0  8.227650e-16      0.995274   -5.791881     -0.648539   \n",
       "V14     284807.0  1.206683e-15      0.958596  -19.214325     -0.425574   \n",
       "V15     284807.0  4.870890e-15      0.915316   -4.498945     -0.582884   \n",
       "V16     284807.0  1.438308e-15      0.876253  -14.129855     -0.468037   \n",
       "V17     284807.0 -3.703029e-16      0.849337  -25.162799     -0.483748   \n",
       "V18     284807.0  9.661927e-16      0.838176   -9.498746     -0.498850   \n",
       "V19     284807.0  1.011277e-15      0.814041   -7.213527     -0.456299   \n",
       "V20     284807.0  6.325855e-16      0.770925  -54.497720     -0.211721   \n",
       "V21     284807.0  1.441865e-16      0.734524  -34.830382     -0.228395   \n",
       "V22     284807.0 -3.080781e-16      0.725702  -10.933144     -0.542350   \n",
       "V23     284807.0  2.557386e-16      0.624460  -44.807735     -0.161846   \n",
       "V24     284807.0  4.476116e-15      0.605647   -2.836627     -0.354586   \n",
       "V25     284807.0  5.448758e-16      0.521278  -10.295397     -0.317145   \n",
       "V26     284807.0  1.684570e-15      0.482227   -2.604551     -0.326984   \n",
       "V27     284807.0 -3.661673e-16      0.403632  -22.565679     -0.070840   \n",
       "V28     284807.0 -1.242647e-16      0.330083  -15.430084     -0.052960   \n",
       "Amount  284807.0  8.834962e+01    250.120109    0.000000      5.600000   \n",
       "Class   284807.0  1.727486e-03      0.041527    0.000000      0.000000   \n",
       "\n",
       "                 50%            75%            max  \n",
       "Time    84692.000000  139320.500000  172792.000000  \n",
       "V1          0.018109       1.315642       2.454930  \n",
       "V2          0.065486       0.803724      22.057729  \n",
       "V3          0.179846       1.027196       9.382558  \n",
       "V4         -0.019847       0.743341      16.875344  \n",
       "V5         -0.054336       0.611926      34.801666  \n",
       "V6         -0.274187       0.398565      73.301626  \n",
       "V7          0.040103       0.570436     120.589494  \n",
       "V8          0.022358       0.327346      20.007208  \n",
       "V9         -0.051429       0.597139      15.594995  \n",
       "V10        -0.092917       0.453923      23.745136  \n",
       "V11        -0.032757       0.739593      12.018913  \n",
       "V12         0.140033       0.618238       7.848392  \n",
       "V13        -0.013568       0.662505       7.126883  \n",
       "V14         0.050601       0.493150      10.526766  \n",
       "V15         0.048072       0.648821       8.877742  \n",
       "V16         0.066413       0.523296      17.315112  \n",
       "V17        -0.065676       0.399675       9.253526  \n",
       "V18        -0.003636       0.500807       5.041069  \n",
       "V19         0.003735       0.458949       5.591971  \n",
       "V20        -0.062481       0.133041      39.420904  \n",
       "V21        -0.029450       0.186377      27.202839  \n",
       "V22         0.006782       0.528554      10.503090  \n",
       "V23        -0.011193       0.147642      22.528412  \n",
       "V24         0.040976       0.439527       4.584549  \n",
       "V25         0.016594       0.350716       7.519589  \n",
       "V26        -0.052139       0.240952       3.517346  \n",
       "V27         0.001342       0.091045      31.612198  \n",
       "V28         0.011244       0.078280      33.847808  \n",
       "Amount     22.000000      77.165000   25691.160000  \n",
       "Class       0.000000       0.000000       1.000000  "
      ]
     },
     "execution_count": 6,
     "metadata": {},
     "output_type": "execute_result"
    }
   ],
   "source": [
    "# viewing some basic statistical details\n",
    "df.describe().T"
   ]
  },
  {
   "cell_type": "markdown",
   "metadata": {},
   "source": [
    "### Preprocessing the data:\n",
    "looking at the values AFTER min max scaler applied"
   ]
  },
  {
   "cell_type": "code",
   "execution_count": 7,
   "metadata": {},
   "outputs": [
    {
     "data": {
      "text/html": [
       "<div>\n",
       "<style scoped>\n",
       "    .dataframe tbody tr th:only-of-type {\n",
       "        vertical-align: middle;\n",
       "    }\n",
       "\n",
       "    .dataframe tbody tr th {\n",
       "        vertical-align: top;\n",
       "    }\n",
       "\n",
       "    .dataframe thead th {\n",
       "        text-align: right;\n",
       "    }\n",
       "</style>\n",
       "<table border=\"1\" class=\"dataframe\">\n",
       "  <thead>\n",
       "    <tr style=\"text-align: right;\">\n",
       "      <th></th>\n",
       "      <th>count</th>\n",
       "      <th>mean</th>\n",
       "      <th>std</th>\n",
       "      <th>min</th>\n",
       "      <th>25%</th>\n",
       "      <th>50%</th>\n",
       "      <th>75%</th>\n",
       "      <th>max</th>\n",
       "    </tr>\n",
       "  </thead>\n",
       "  <tbody>\n",
       "    <tr>\n",
       "      <th>Time</th>\n",
       "      <td>284807.0</td>\n",
       "      <td>0.548717</td>\n",
       "      <td>0.274828</td>\n",
       "      <td>0.0</td>\n",
       "      <td>0.313681</td>\n",
       "      <td>0.490138</td>\n",
       "      <td>0.806290</td>\n",
       "      <td>1.0</td>\n",
       "    </tr>\n",
       "    <tr>\n",
       "      <th>V1</th>\n",
       "      <td>284807.0</td>\n",
       "      <td>0.958294</td>\n",
       "      <td>0.033276</td>\n",
       "      <td>0.0</td>\n",
       "      <td>0.942658</td>\n",
       "      <td>0.958601</td>\n",
       "      <td>0.980645</td>\n",
       "      <td>1.0</td>\n",
       "    </tr>\n",
       "    <tr>\n",
       "      <th>V2</th>\n",
       "      <td>284807.0</td>\n",
       "      <td>0.767258</td>\n",
       "      <td>0.017424</td>\n",
       "      <td>0.0</td>\n",
       "      <td>0.760943</td>\n",
       "      <td>0.767949</td>\n",
       "      <td>0.775739</td>\n",
       "      <td>1.0</td>\n",
       "    </tr>\n",
       "    <tr>\n",
       "      <th>V3</th>\n",
       "      <td>284807.0</td>\n",
       "      <td>0.837414</td>\n",
       "      <td>0.026275</td>\n",
       "      <td>0.0</td>\n",
       "      <td>0.821985</td>\n",
       "      <td>0.840530</td>\n",
       "      <td>0.855213</td>\n",
       "      <td>1.0</td>\n",
       "    </tr>\n",
       "    <tr>\n",
       "      <th>V4</th>\n",
       "      <td>284807.0</td>\n",
       "      <td>0.251930</td>\n",
       "      <td>0.062764</td>\n",
       "      <td>0.0</td>\n",
       "      <td>0.214311</td>\n",
       "      <td>0.251050</td>\n",
       "      <td>0.284882</td>\n",
       "      <td>1.0</td>\n",
       "    </tr>\n",
       "    <tr>\n",
       "      <th>V5</th>\n",
       "      <td>284807.0</td>\n",
       "      <td>0.765716</td>\n",
       "      <td>0.009292</td>\n",
       "      <td>0.0</td>\n",
       "      <td>0.761060</td>\n",
       "      <td>0.765351</td>\n",
       "      <td>0.769836</td>\n",
       "      <td>1.0</td>\n",
       "    </tr>\n",
       "    <tr>\n",
       "      <th>V6</th>\n",
       "      <td>284807.0</td>\n",
       "      <td>0.263020</td>\n",
       "      <td>0.013395</td>\n",
       "      <td>0.0</td>\n",
       "      <td>0.255295</td>\n",
       "      <td>0.260263</td>\n",
       "      <td>0.267027</td>\n",
       "      <td>1.0</td>\n",
       "    </tr>\n",
       "    <tr>\n",
       "      <th>V7</th>\n",
       "      <td>284807.0</td>\n",
       "      <td>0.265356</td>\n",
       "      <td>0.007537</td>\n",
       "      <td>0.0</td>\n",
       "      <td>0.261980</td>\n",
       "      <td>0.265600</td>\n",
       "      <td>0.268831</td>\n",
       "      <td>1.0</td>\n",
       "    </tr>\n",
       "    <tr>\n",
       "      <th>V8</th>\n",
       "      <td>284807.0</td>\n",
       "      <td>0.785385</td>\n",
       "      <td>0.012812</td>\n",
       "      <td>0.0</td>\n",
       "      <td>0.783148</td>\n",
       "      <td>0.785625</td>\n",
       "      <td>0.788897</td>\n",
       "      <td>1.0</td>\n",
       "    </tr>\n",
       "    <tr>\n",
       "      <th>V9</th>\n",
       "      <td>284807.0</td>\n",
       "      <td>0.462780</td>\n",
       "      <td>0.037846</td>\n",
       "      <td>0.0</td>\n",
       "      <td>0.440626</td>\n",
       "      <td>0.461008</td>\n",
       "      <td>0.483350</td>\n",
       "      <td>1.0</td>\n",
       "    </tr>\n",
       "    <tr>\n",
       "      <th>V10</th>\n",
       "      <td>284807.0</td>\n",
       "      <td>0.508722</td>\n",
       "      <td>0.022528</td>\n",
       "      <td>0.0</td>\n",
       "      <td>0.497644</td>\n",
       "      <td>0.506800</td>\n",
       "      <td>0.518113</td>\n",
       "      <td>1.0</td>\n",
       "    </tr>\n",
       "    <tr>\n",
       "      <th>V11</th>\n",
       "      <td>284807.0</td>\n",
       "      <td>0.285286</td>\n",
       "      <td>0.060698</td>\n",
       "      <td>0.0</td>\n",
       "      <td>0.239943</td>\n",
       "      <td>0.283338</td>\n",
       "      <td>0.329266</td>\n",
       "      <td>1.0</td>\n",
       "    </tr>\n",
       "    <tr>\n",
       "      <th>V12</th>\n",
       "      <td>284807.0</td>\n",
       "      <td>0.704193</td>\n",
       "      <td>0.037660</td>\n",
       "      <td>0.0</td>\n",
       "      <td>0.688907</td>\n",
       "      <td>0.709471</td>\n",
       "      <td>0.727494</td>\n",
       "      <td>1.0</td>\n",
       "    </tr>\n",
       "    <tr>\n",
       "      <th>V13</th>\n",
       "      <td>284807.0</td>\n",
       "      <td>0.448331</td>\n",
       "      <td>0.077041</td>\n",
       "      <td>0.0</td>\n",
       "      <td>0.398130</td>\n",
       "      <td>0.447281</td>\n",
       "      <td>0.499613</td>\n",
       "      <td>1.0</td>\n",
       "    </tr>\n",
       "    <tr>\n",
       "      <th>V14</th>\n",
       "      <td>284807.0</td>\n",
       "      <td>0.646053</td>\n",
       "      <td>0.032231</td>\n",
       "      <td>0.0</td>\n",
       "      <td>0.631744</td>\n",
       "      <td>0.647755</td>\n",
       "      <td>0.662635</td>\n",
       "      <td>1.0</td>\n",
       "    </tr>\n",
       "    <tr>\n",
       "      <th>V15</th>\n",
       "      <td>284807.0</td>\n",
       "      <td>0.336327</td>\n",
       "      <td>0.068426</td>\n",
       "      <td>0.0</td>\n",
       "      <td>0.292753</td>\n",
       "      <td>0.339921</td>\n",
       "      <td>0.384831</td>\n",
       "      <td>1.0</td>\n",
       "    </tr>\n",
       "    <tr>\n",
       "      <th>V16</th>\n",
       "      <td>284807.0</td>\n",
       "      <td>0.449352</td>\n",
       "      <td>0.027866</td>\n",
       "      <td>0.0</td>\n",
       "      <td>0.434468</td>\n",
       "      <td>0.451464</td>\n",
       "      <td>0.465994</td>\n",
       "      <td>1.0</td>\n",
       "    </tr>\n",
       "    <tr>\n",
       "      <th>V17</th>\n",
       "      <td>284807.0</td>\n",
       "      <td>0.731130</td>\n",
       "      <td>0.024678</td>\n",
       "      <td>0.0</td>\n",
       "      <td>0.717074</td>\n",
       "      <td>0.729221</td>\n",
       "      <td>0.742743</td>\n",
       "      <td>1.0</td>\n",
       "    </tr>\n",
       "    <tr>\n",
       "      <th>V18</th>\n",
       "      <td>284807.0</td>\n",
       "      <td>0.653292</td>\n",
       "      <td>0.057647</td>\n",
       "      <td>0.0</td>\n",
       "      <td>0.618983</td>\n",
       "      <td>0.653042</td>\n",
       "      <td>0.687736</td>\n",
       "      <td>1.0</td>\n",
       "    </tr>\n",
       "    <tr>\n",
       "      <th>V19</th>\n",
       "      <td>284807.0</td>\n",
       "      <td>0.563315</td>\n",
       "      <td>0.063570</td>\n",
       "      <td>0.0</td>\n",
       "      <td>0.527682</td>\n",
       "      <td>0.563606</td>\n",
       "      <td>0.599155</td>\n",
       "      <td>1.0</td>\n",
       "    </tr>\n",
       "    <tr>\n",
       "      <th>V20</th>\n",
       "      <td>284807.0</td>\n",
       "      <td>0.580265</td>\n",
       "      <td>0.008208</td>\n",
       "      <td>0.0</td>\n",
       "      <td>0.578011</td>\n",
       "      <td>0.579600</td>\n",
       "      <td>0.581682</td>\n",
       "      <td>1.0</td>\n",
       "    </tr>\n",
       "    <tr>\n",
       "      <th>V21</th>\n",
       "      <td>284807.0</td>\n",
       "      <td>0.561480</td>\n",
       "      <td>0.011841</td>\n",
       "      <td>0.0</td>\n",
       "      <td>0.557798</td>\n",
       "      <td>0.561005</td>\n",
       "      <td>0.564484</td>\n",
       "      <td>1.0</td>\n",
       "    </tr>\n",
       "    <tr>\n",
       "      <th>V22</th>\n",
       "      <td>284807.0</td>\n",
       "      <td>0.510031</td>\n",
       "      <td>0.033854</td>\n",
       "      <td>0.0</td>\n",
       "      <td>0.484730</td>\n",
       "      <td>0.510347</td>\n",
       "      <td>0.534688</td>\n",
       "      <td>1.0</td>\n",
       "    </tr>\n",
       "    <tr>\n",
       "      <th>V23</th>\n",
       "      <td>284807.0</td>\n",
       "      <td>0.665434</td>\n",
       "      <td>0.009274</td>\n",
       "      <td>0.0</td>\n",
       "      <td>0.663030</td>\n",
       "      <td>0.665267</td>\n",
       "      <td>0.667626</td>\n",
       "      <td>1.0</td>\n",
       "    </tr>\n",
       "    <tr>\n",
       "      <th>V24</th>\n",
       "      <td>284807.0</td>\n",
       "      <td>0.382234</td>\n",
       "      <td>0.081611</td>\n",
       "      <td>0.0</td>\n",
       "      <td>0.334454</td>\n",
       "      <td>0.387756</td>\n",
       "      <td>0.441460</td>\n",
       "      <td>1.0</td>\n",
       "    </tr>\n",
       "    <tr>\n",
       "      <th>V25</th>\n",
       "      <td>284807.0</td>\n",
       "      <td>0.577907</td>\n",
       "      <td>0.029261</td>\n",
       "      <td>0.0</td>\n",
       "      <td>0.560104</td>\n",
       "      <td>0.578838</td>\n",
       "      <td>0.597593</td>\n",
       "      <td>1.0</td>\n",
       "    </tr>\n",
       "    <tr>\n",
       "      <th>V26</th>\n",
       "      <td>284807.0</td>\n",
       "      <td>0.425448</td>\n",
       "      <td>0.078771</td>\n",
       "      <td>0.0</td>\n",
       "      <td>0.372036</td>\n",
       "      <td>0.416932</td>\n",
       "      <td>0.464807</td>\n",
       "      <td>1.0</td>\n",
       "    </tr>\n",
       "    <tr>\n",
       "      <th>V27</th>\n",
       "      <td>284807.0</td>\n",
       "      <td>0.416511</td>\n",
       "      <td>0.007450</td>\n",
       "      <td>0.0</td>\n",
       "      <td>0.415203</td>\n",
       "      <td>0.416536</td>\n",
       "      <td>0.418191</td>\n",
       "      <td>1.0</td>\n",
       "    </tr>\n",
       "    <tr>\n",
       "      <th>V28</th>\n",
       "      <td>284807.0</td>\n",
       "      <td>0.313124</td>\n",
       "      <td>0.006698</td>\n",
       "      <td>0.0</td>\n",
       "      <td>0.312049</td>\n",
       "      <td>0.313352</td>\n",
       "      <td>0.314712</td>\n",
       "      <td>1.0</td>\n",
       "    </tr>\n",
       "    <tr>\n",
       "      <th>Amount</th>\n",
       "      <td>284807.0</td>\n",
       "      <td>0.003439</td>\n",
       "      <td>0.009736</td>\n",
       "      <td>0.0</td>\n",
       "      <td>0.000218</td>\n",
       "      <td>0.000856</td>\n",
       "      <td>0.003004</td>\n",
       "      <td>1.0</td>\n",
       "    </tr>\n",
       "    <tr>\n",
       "      <th>Class</th>\n",
       "      <td>284807.0</td>\n",
       "      <td>0.001727</td>\n",
       "      <td>0.041527</td>\n",
       "      <td>0.0</td>\n",
       "      <td>0.000000</td>\n",
       "      <td>0.000000</td>\n",
       "      <td>0.000000</td>\n",
       "      <td>1.0</td>\n",
       "    </tr>\n",
       "  </tbody>\n",
       "</table>\n",
       "</div>"
      ],
      "text/plain": [
       "           count      mean       std  min       25%       50%       75%  max\n",
       "Time    284807.0  0.548717  0.274828  0.0  0.313681  0.490138  0.806290  1.0\n",
       "V1      284807.0  0.958294  0.033276  0.0  0.942658  0.958601  0.980645  1.0\n",
       "V2      284807.0  0.767258  0.017424  0.0  0.760943  0.767949  0.775739  1.0\n",
       "V3      284807.0  0.837414  0.026275  0.0  0.821985  0.840530  0.855213  1.0\n",
       "V4      284807.0  0.251930  0.062764  0.0  0.214311  0.251050  0.284882  1.0\n",
       "V5      284807.0  0.765716  0.009292  0.0  0.761060  0.765351  0.769836  1.0\n",
       "V6      284807.0  0.263020  0.013395  0.0  0.255295  0.260263  0.267027  1.0\n",
       "V7      284807.0  0.265356  0.007537  0.0  0.261980  0.265600  0.268831  1.0\n",
       "V8      284807.0  0.785385  0.012812  0.0  0.783148  0.785625  0.788897  1.0\n",
       "V9      284807.0  0.462780  0.037846  0.0  0.440626  0.461008  0.483350  1.0\n",
       "V10     284807.0  0.508722  0.022528  0.0  0.497644  0.506800  0.518113  1.0\n",
       "V11     284807.0  0.285286  0.060698  0.0  0.239943  0.283338  0.329266  1.0\n",
       "V12     284807.0  0.704193  0.037660  0.0  0.688907  0.709471  0.727494  1.0\n",
       "V13     284807.0  0.448331  0.077041  0.0  0.398130  0.447281  0.499613  1.0\n",
       "V14     284807.0  0.646053  0.032231  0.0  0.631744  0.647755  0.662635  1.0\n",
       "V15     284807.0  0.336327  0.068426  0.0  0.292753  0.339921  0.384831  1.0\n",
       "V16     284807.0  0.449352  0.027866  0.0  0.434468  0.451464  0.465994  1.0\n",
       "V17     284807.0  0.731130  0.024678  0.0  0.717074  0.729221  0.742743  1.0\n",
       "V18     284807.0  0.653292  0.057647  0.0  0.618983  0.653042  0.687736  1.0\n",
       "V19     284807.0  0.563315  0.063570  0.0  0.527682  0.563606  0.599155  1.0\n",
       "V20     284807.0  0.580265  0.008208  0.0  0.578011  0.579600  0.581682  1.0\n",
       "V21     284807.0  0.561480  0.011841  0.0  0.557798  0.561005  0.564484  1.0\n",
       "V22     284807.0  0.510031  0.033854  0.0  0.484730  0.510347  0.534688  1.0\n",
       "V23     284807.0  0.665434  0.009274  0.0  0.663030  0.665267  0.667626  1.0\n",
       "V24     284807.0  0.382234  0.081611  0.0  0.334454  0.387756  0.441460  1.0\n",
       "V25     284807.0  0.577907  0.029261  0.0  0.560104  0.578838  0.597593  1.0\n",
       "V26     284807.0  0.425448  0.078771  0.0  0.372036  0.416932  0.464807  1.0\n",
       "V27     284807.0  0.416511  0.007450  0.0  0.415203  0.416536  0.418191  1.0\n",
       "V28     284807.0  0.313124  0.006698  0.0  0.312049  0.313352  0.314712  1.0\n",
       "Amount  284807.0  0.003439  0.009736  0.0  0.000218  0.000856  0.003004  1.0\n",
       "Class   284807.0  0.001727  0.041527  0.0  0.000000  0.000000  0.000000  1.0"
      ]
     },
     "execution_count": 7,
     "metadata": {},
     "output_type": "execute_result"
    }
   ],
   "source": [
    "# rescaling the data using MinMaxScaler\n",
    "from sklearn.preprocessing import MinMaxScaler\n",
    "scaler = MinMaxScaler(feature_range=(0,1))\n",
    "rescaled = scaler.fit_transform(df)\n",
    "pd.DataFrame(rescaled, columns=[df.columns]).describe().T"
   ]
  },
  {
   "cell_type": "markdown",
   "metadata": {},
   "source": [
    "## Visualizing the data:\n",
    "1. First just the \"Amount\" to get some insights\n",
    "1. Then, \"Amount\" by \"Class\"\n",
    "\n",
    "### Amount"
   ]
  },
  {
   "cell_type": "code",
   "execution_count": 8,
   "metadata": {
    "scrolled": false
   },
   "outputs": [
    {
     "data": {
      "text/plain": [
       "Text(0, 0.5, 'Density')"
      ]
     },
     "execution_count": 8,
     "metadata": {},
     "output_type": "execute_result"
    },
    {
     "data": {
      "image/png": "[encoded data removed]",
      "text/plain": [
       "<Figure size 1152x288 with 1 Axes>"
      ]
     },
     "metadata": {
      "needs_background": "light"
     },
     "output_type": "display_data"
    }
   ],
   "source": [
    "## Density plot with Rug\n",
    "plt.figure(figsize=(16,4))\n",
    "#plt.axis([-200,5000,0,0.002])\n",
    "sns.distplot(df['Amount'], hist=False, kde=True, rug=True,\n",
    "            color='red',\n",
    "            kde_kws={'linewidth':3},\n",
    "            rug_kws={'color':'black'})\n",
    "# plot formating\n",
    "plt.title('Density Plot with  Rug for Fraudulent Activity')\n",
    "plt.ylabel('Density')"
   ]
  },
  {
   "cell_type": "code",
   "execution_count": 9,
   "metadata": {},
   "outputs": [
    {
     "data": {
      "image/png": "[encoded data removed]",
      "text/plain": [
       "<Figure size 1152x288 with 1 Axes>"
      ]
     },
     "metadata": {
      "needs_background": "light"
     },
     "output_type": "display_data"
    }
   ],
   "source": [
    "plt.figure(figsize=(16,4))\n",
    "df.Amount.plot(kind='hist', bins=50)\n",
    "plt.yscale('symlog')"
   ]
  },
  {
   "cell_type": "markdown",
   "metadata": {},
   "source": [
    "### Amount by class\n",
    "- the first chart shows a high-level view of the credit card activity considered \"fraud\"(in orange) in comparison with \"non-fraud\" activity (in blue). We can observe that the concetration of most fraudulent activity is below 5,000 dollars. \n",
    "- In the second chart, we zoomed in to focus on the area where we see most of the fraudulent activity. Here we can see that the  most dense area is between zero and just under 400 dollar, and then it is closely scattered until about 800 dollars and continues more scattered until about 2,200 dollars."
   ]
  },
  {
   "cell_type": "code",
   "execution_count": 10,
   "metadata": {},
   "outputs": [
    {
     "data": {
      "text/plain": [
       "[-100, 2500, -0.1, 1.2]"
      ]
     },
     "execution_count": 10,
     "metadata": {},
     "output_type": "execute_result"
    },
    {
     "data": {
      "image/png": "[encoded data removed]",
      "text/plain": [
       "<Figure size 1152x144 with 1 Axes>"
      ]
     },
     "metadata": {
      "needs_background": "light"
     },
     "output_type": "display_data"
    },
    {
     "data": {
      "image/png": "[encoded data removed]",
      "text/plain": [
       "<Figure size 1152x144 with 1 Axes>"
      ]
     },
     "metadata": {
      "needs_background": "light"
     },
     "output_type": "display_data"
    }
   ],
   "source": [
    "## plot of two variables in one chart\n",
    "ax = fraud.plot.scatter(x='Amount', y='Class', color='Orange', label='Fraud',figsize=(16, 2))\n",
    "non_frauds.plot.scatter(x='Amount', y='Class', color='Blue', label='Non-fraud', ax=ax)\n",
    "\n",
    "## zooming in \n",
    "ax = fraud.plot.scatter(x='Amount', y='Class', color='Orange', label='Fraud',figsize=(16, 2))\n",
    "non_frauds.plot.scatter(x='Amount', y='Class', color='Blue', label='Non-fraud', ax=ax)\n",
    "plt.axis([-100,2500,-0.1,1.2])\n"
   ]
  },
  {
   "cell_type": "code",
   "execution_count": 11,
   "metadata": {
    "scrolled": true
   },
   "outputs": [
    {
     "data": {
      "text/plain": [
       "(0, 25000)"
      ]
     },
     "execution_count": 11,
     "metadata": {},
     "output_type": "execute_result"
    },
    {
     "data": {
      "image/png": "[encoded data removed]",
      "text/plain": [
       "<Figure size 1152x144 with 1 Axes>"
      ]
     },
     "metadata": {
      "needs_background": "light"
     },
     "output_type": "display_data"
    }
   ],
   "source": [
    "## this graph gives a closer look to the area where there has been fraud\n",
    "ax = fraud.plot.scatter(x='Amount', y='Class', color='Orange', label='Fraud', figsize=(16, 2))\n",
    "non_frauds.plot.scatter(x='Amount', y='Class', color='Blue', label='Non-Fraud', ax=ax)\n",
    "plt.xscale('symlog')\n",
    "plt.xlim(0,25000)"
   ]
  },
  {
   "cell_type": "markdown",
   "metadata": {},
   "source": [
    "##  Visualizing with a density graph to see better the small distribution\n",
    "- In the first graph, we quickly notice the peak at the very begining, the smaller dollar amount.\n",
    "- when zoomed in, we notice that the majority of fraudulent activity is under 150 dollars, and the majority of non-fraud are between 250 and 1,000.\n",
    "- there is an overlap of fraud and normal activity between 250 -1,250."
   ]
  },
  {
   "cell_type": "code",
   "execution_count": 12,
   "metadata": {
    "scrolled": false
   },
   "outputs": [
    {
     "data": {
      "image/png": "[encoded data removed]",
      "text/plain": [
       "<Figure size 1152x288 with 1 Axes>"
      ]
     },
     "metadata": {
      "needs_background": "light"
     },
     "output_type": "display_data"
    },
    {
     "data": {
      "image/png": "[encoded data removed]",
      "text/plain": [
       "<Figure size 1152x576 with 1 Axes>"
      ]
     },
     "metadata": {
      "needs_background": "light"
     },
     "output_type": "display_data"
    }
   ],
   "source": [
    "## density graph\n",
    "plt.figure(figsize=(16, 4))\n",
    "#plt.axis([0,400,0,0.010])\n",
    "#plt.xlim(0,400),\n",
    "#plt.ylim(0,0.01)\n",
    "p1=sns.kdeplot(df[df['Class'] == 1]['Amount'], shade=True, color=\"orange\", label='fraud')\n",
    "p1=sns.kdeplot(df[df['Class'] == 0]['Amount'], shade=True, color=\"b\", label='Non-fraud')\n",
    "\n",
    "## zooming in\n",
    "plt.figure(figsize=(16, 8))\n",
    "plt.axis([0,2000,0,0.00025])\n",
    "#plt.ylim(0,0.000025)\n",
    "p1=sns.kdeplot(df[df['Class'] == 1]['Amount'], shade=True, color=\"orange\", label='Fraud')\n",
    "p1=sns.kdeplot(df[df['Class'] == 0]['Amount'], shade=True, color=\"b\", label='Non-fraud')"
   ]
  },
  {
   "cell_type": "markdown",
   "metadata": {},
   "source": [
    "### Pair plot to inspect feature interactions\n",
    "- this lets us see inside the data\n",
    "- looking for relationships and seeing how the interact with each other"
   ]
  },
  {
   "cell_type": "code",
   "execution_count": 13,
   "metadata": {},
   "outputs": [],
   "source": [
    " # sns.pairplot(df[['V26', 'V28', 'Amount','Class']],kind='scatter',hue='Class')"
   ]
  },
  {
   "cell_type": "code",
   "execution_count": 14,
   "metadata": {},
   "outputs": [],
   "source": [
    "# sns.pairplot(df[['V1', 'V2', 'Amount','Class']],kind='scatter',hue='Class')"
   ]
  },
  {
   "cell_type": "markdown",
   "metadata": {},
   "source": [
    "## Machine learning:\n",
    "\n",
    "\n",
    "### Split the data between train and test, X (features) and y (labels)"
   ]
  },
  {
   "cell_type": "code",
   "execution_count": 15,
   "metadata": {},
   "outputs": [],
   "source": [
    "from sklearn import linear_model\n",
    "from sklearn.model_selection import train_test_split\n",
    "random_state = 42"
   ]
  },
  {
   "cell_type": "code",
   "execution_count": 16,
   "metadata": {},
   "outputs": [
    {
     "name": "stdout",
     "output_type": "stream",
     "text": [
      "['Time', 'V1', 'V2', 'V3', 'V4', 'V5', 'V6', 'V7', 'V8', 'V9', 'V10', 'V11', 'V12', 'V13', 'V14', 'V15', 'V16', 'V17', 'V18', 'V19', 'V20', 'V21', 'V22', 'V23', 'V24', 'V25', 'V26', 'V27', 'V28', 'Amount']\n"
     ]
    }
   ],
   "source": [
    "## Defining which ones are feature columns: all columns \n",
    "## except the last one, which will be the labeled data\n",
    "feature_cols = df.columns.tolist()[:-1]\n",
    "print(feature_cols)"
   ]
  },
  {
   "cell_type": "code",
   "execution_count": 17,
   "metadata": {},
   "outputs": [],
   "source": [
    "## Our \"X\" is the input data (feature columns)\n",
    "X = df[feature_cols]\n",
    "\n",
    "## Our 'y' (what we're trying to predict) is everything labeled \"Class\"\n",
    "y = df['Class'] \n",
    "\n",
    "X_train, X_test, y_train, y_test = train_test_split(X, y, test_size=0.40)"
   ]
  },
  {
   "cell_type": "code",
   "execution_count": 18,
   "metadata": {},
   "outputs": [],
   "source": [
    "## just checking what's inside each train and test variable \n",
    "# print(len(X_train))\n",
    "# print(len(y_train))\n",
    "# print(len(X_test))\n",
    "# print(len(y_test))\n",
    "# 99683/(185124+99683)"
   ]
  },
  {
   "cell_type": "markdown",
   "metadata": {},
   "source": [
    "### Logistic Regression model\n",
    "---"
   ]
  },
  {
   "cell_type": "code",
   "execution_count": 19,
   "metadata": {},
   "outputs": [
    {
     "name": "stderr",
     "output_type": "stream",
     "text": [
      "C:\\Users\\laura\\Anaconda3\\lib\\site-packages\\sklearn\\linear_model\\logistic.py:432: FutureWarning: Default solver will be changed to 'lbfgs' in 0.22. Specify a solver to silence this warning.\n",
      "  FutureWarning)\n"
     ]
    },
    {
     "name": "stdout",
     "output_type": "stream",
     "text": [
      "Accuracy of logistic regression classifier on test set: 0.9987\n"
     ]
    }
   ],
   "source": [
    "## using C to prevent overfitting\n",
    "logistic = linear_model.LogisticRegression(C=1e5,random_state=random_state)\n",
    "logistic.fit(X_train,y_train)\n",
    "\n",
    "## Score is for finding a accuracy for logistic regression\n",
    "print('Accuracy of logistic regression classifier on test set: {:.4f}'.format(logistic.score(X_test, y_test)))"
   ]
  },
  {
   "cell_type": "markdown",
   "metadata": {},
   "source": [
    "The score is pretty high. Nevertheless, this data set has an imbalanced classification problem, way more \"frauds\" than \"non-frauds\", so accuracy is not best for this type of dataset.\n",
    "\n",
    "So, next, let's apply classification report for this model."
   ]
  },
  {
   "cell_type": "code",
   "execution_count": 20,
   "metadata": {},
   "outputs": [],
   "source": [
    "## sanity check: checking how it's working\n",
    "#logistic.classes_\n",
    "#logistic.coef_ # these are the features (columns) except for the label column ('Class')"
   ]
  },
  {
   "cell_type": "code",
   "execution_count": 21,
   "metadata": {},
   "outputs": [
    {
     "name": "stdout",
     "output_type": "stream",
     "text": [
      "              precision    recall  f1-score   support\n",
      "\n",
      "           0       1.00      1.00      1.00    113717\n",
      "           1       0.72      0.48      0.57       206\n",
      "\n",
      "    accuracy                           1.00    113923\n",
      "   macro avg       0.86      0.74      0.79    113923\n",
      "weighted avg       1.00      1.00      1.00    113923\n",
      "\n"
     ]
    }
   ],
   "source": [
    "## CLASSIFICATION REPORT\n",
    "\n",
    "from sklearn.metrics import classification_report\n",
    "## Getting the model's prediction for y (sometimes called \"y\" hat)\n",
    "y_pred = logistic.predict(X_test)\n",
    "\n",
    "## this compares the test vs. the prediction\n",
    "print(classification_report(y_test, y_pred))"
   ]
  },
  {
   "cell_type": "markdown",
   "metadata": {},
   "source": [
    "__*READING THE CLASSIFICATION REPORT:*__ Of the entire test set, 84% of the time, the model predicted correctly that the transactions were fraudulent"
   ]
  },
  {
   "cell_type": "markdown",
   "metadata": {},
   "source": [
    "#### Calculating the ROC AUC"
   ]
  },
  {
   "cell_type": "code",
   "execution_count": 22,
   "metadata": {},
   "outputs": [
    {
     "data": {
      "text/plain": [
       "0.737692599350918"
      ]
     },
     "execution_count": 22,
     "metadata": {},
     "output_type": "execute_result"
    }
   ],
   "source": [
    "## calculating roc auc\n",
    "from sklearn.metrics import roc_auc_score\n",
    "logistic_roc = roc_auc_score(y_test, logistic.predict(X_test))\n",
    "logistic_roc\n"
   ]
  },
  {
   "cell_type": "markdown",
   "metadata": {},
   "source": [
    "The ROC AUC (area under the curve) for the logistic regression model is 0.93"
   ]
  },
  {
   "cell_type": "markdown",
   "metadata": {},
   "source": [
    "#### Plotting the ROC Curves"
   ]
  },
  {
   "cell_type": "code",
   "execution_count": 23,
   "metadata": {},
   "outputs": [
    {
     "data": {
      "text/plain": [
       "<matplotlib.legend.Legend at 0x21f2edeaa20>"
      ]
     },
     "execution_count": 23,
     "metadata": {},
     "output_type": "execute_result"
    },
    {
     "data": {
      "image/png": "[encoded data removed]",
      "text/plain": [
       "<Figure size 1152x432 with 1 Axes>"
      ]
     },
     "metadata": {
      "needs_background": "light"
     },
     "output_type": "display_data"
    }
   ],
   "source": [
    "# plotting the ROC \n",
    "from sklearn.metrics import roc_curve\n",
    "fpr, tpr, thresholds = roc_curve(y_test, logistic.predict_proba(X_test)[:,1])\n",
    "plt.figure(figsize=(16,6))\n",
    "plt.rcParams['font.size'] = 16\n",
    "plt.plot(fpr, tpr, label='Logistic Regression model' % logistic_roc)\n",
    "plt.plot([0,1], [0,1], 'r--')\n",
    "plt.xlabel('False Positive Rate')\n",
    "plt.ylabel('True Positive Rate')\n",
    "plt.title('ROC Curve')\n",
    "plt.legend(loc=\"lower right\")"
   ]
  },
  {
   "cell_type": "markdown",
   "metadata": {},
   "source": [
    "### Random Forest Classifier model\n",
    "---"
   ]
  },
  {
   "cell_type": "code",
   "execution_count": 24,
   "metadata": {},
   "outputs": [],
   "source": [
    "from sklearn.ensemble import RandomForestClassifier"
   ]
  },
  {
   "cell_type": "code",
   "execution_count": 25,
   "metadata": {},
   "outputs": [
    {
     "data": {
      "text/plain": [
       "RandomForestClassifier(bootstrap=True, class_weight=None, criterion='gini',\n",
       "                       max_depth=3, max_features='auto', max_leaf_nodes=None,\n",
       "                       min_impurity_decrease=0.0, min_impurity_split=None,\n",
       "                       min_samples_leaf=1, min_samples_split=2,\n",
       "                       min_weight_fraction_leaf=0.0, n_estimators=20,\n",
       "                       n_jobs=None, oob_score=False, random_state=42, verbose=0,\n",
       "                       warm_start=False)"
      ]
     },
     "execution_count": 25,
     "metadata": {},
     "output_type": "execute_result"
    }
   ],
   "source": [
    "random_f = RandomForestClassifier(n_estimators=20, max_depth=3,\n",
    "                                 random_state=random_state)\n",
    "random_f.fit(X_train, y_train)"
   ]
  },
  {
   "cell_type": "code",
   "execution_count": 26,
   "metadata": {},
   "outputs": [
    {
     "data": {
      "text/plain": [
       "array([1.66196134e-03, 2.36286253e-03, 2.07412862e-02, 2.59650530e-02,\n",
       "       2.98533591e-02, 4.50101837e-04, 2.41022487e-03, 2.73827639e-02,\n",
       "       6.74381851e-03, 2.47204393e-02, 1.04421328e-01, 1.70579472e-02,\n",
       "       1.39323359e-01, 0.00000000e+00, 2.14023650e-01, 9.29177062e-04,\n",
       "       5.75571901e-02, 2.76841299e-01, 7.18459340e-03, 1.30343167e-03,\n",
       "       1.21937410e-02, 5.60597859e-03, 1.20041434e-04, 0.00000000e+00,\n",
       "       1.62169244e-03, 0.00000000e+00, 4.89228140e-03, 3.56985474e-03,\n",
       "       2.35709469e-03, 8.70546980e-03])"
      ]
     },
     "execution_count": 26,
     "metadata": {},
     "output_type": "execute_result"
    }
   ],
   "source": [
    "## defining and reviewing feature importances\n",
    "## this is the average importance for each feature\n",
    "importances = random_f.feature_importances_\n",
    "importances"
   ]
  },
  {
   "cell_type": "code",
   "execution_count": 27,
   "metadata": {},
   "outputs": [
    {
     "data": {
      "text/plain": [
       "20"
      ]
     },
     "execution_count": 27,
     "metadata": {},
     "output_type": "execute_result"
    }
   ],
   "source": [
    "# check the number of estimators in forest\n",
    "len(random_f.estimators_)"
   ]
  },
  {
   "cell_type": "code",
   "execution_count": 28,
   "metadata": {},
   "outputs": [
    {
     "name": "stdout",
     "output_type": "stream",
     "text": [
      "feature ranking: \n",
      "1. feature 17 (0.276841)\n",
      "2. feature 14 (0.214024)\n",
      "3. feature 12 (0.139323)\n",
      "4. feature 10 (0.104421)\n",
      "5. feature 16 (0.057557)\n",
      "6. feature 4 (0.029853)\n",
      "7. feature 7 (0.027383)\n",
      "8. feature 3 (0.025965)\n",
      "9. feature 9 (0.024720)\n",
      "10. feature 2 (0.020741)\n",
      "11. feature 11 (0.017058)\n",
      "12. feature 20 (0.012194)\n",
      "13. feature 29 (0.008705)\n",
      "14. feature 18 (0.007185)\n",
      "15. feature 8 (0.006744)\n",
      "16. feature 21 (0.005606)\n",
      "17. feature 26 (0.004892)\n",
      "18. feature 27 (0.003570)\n",
      "19. feature 6 (0.002410)\n",
      "20. feature 1 (0.002363)\n",
      "21. feature 28 (0.002357)\n",
      "22. feature 0 (0.001662)\n",
      "23. feature 24 (0.001622)\n",
      "24. feature 19 (0.001303)\n",
      "25. feature 15 (0.000929)\n",
      "26. feature 5 (0.000450)\n",
      "27. feature 22 (0.000120)\n",
      "28. feature 13 (0.000000)\n",
      "29. feature 23 (0.000000)\n",
      "30. feature 25 (0.000000)\n"
     ]
    }
   ],
   "source": [
    "## ranking feature importances from most important to less important\n",
    "\n",
    "indices = np.argsort(importances)[::-1]\n",
    "print('feature ranking: ')\n",
    "for f in range(X.shape[1]):\n",
    "    print(\"%d. feature %d (%f)\" % (f + 1, indices[f], importances[indices[f]]))\n",
    "\n",
    "## Same result than above, but if we want it as a dataframe\n",
    "# fi = pd.DataFrame([feature_cols, random_f.feature_importances_]).T\n",
    "# fi.rename(columns={0:'feat',1:'imp'}, inplace=True)\n",
    "# fi.sort_values('imp', ascending=False)    "
   ]
  },
  {
   "cell_type": "code",
   "execution_count": 29,
   "metadata": {},
   "outputs": [
    {
     "data": {
      "text/plain": [
       "array([0, 0, 0, ..., 0, 0, 0], dtype=int64)"
      ]
     },
     "execution_count": 29,
     "metadata": {},
     "output_type": "execute_result"
    }
   ],
   "source": [
    "## prediction of actual class\n",
    "y_pred = random_f.predict(X_test)\n",
    "y_pred"
   ]
  },
  {
   "cell_type": "code",
   "execution_count": 30,
   "metadata": {},
   "outputs": [
    {
     "data": {
      "text/plain": [
       "array([0.00045099, 0.00045099, 0.00045099, ..., 0.00045099, 0.00045099,\n",
       "       0.00045099])"
      ]
     },
     "execution_count": 30,
     "metadata": {},
     "output_type": "execute_result"
    }
   ],
   "source": [
    "## probabilities for each class\n",
    "probabilities = random_f.predict_proba(X_test)[:, 1]\n",
    "probabilities"
   ]
  },
  {
   "cell_type": "markdown",
   "metadata": {},
   "source": [
    "#### Calculating the ROC AUC"
   ]
  },
  {
   "cell_type": "code",
   "execution_count": 31,
   "metadata": {},
   "outputs": [
    {
     "data": {
      "text/plain": [
       "0.9244942371417513"
      ]
     },
     "execution_count": 31,
     "metadata": {},
     "output_type": "execute_result"
    }
   ],
   "source": [
    "## calculate roc auc\n",
    "roc_value = roc_auc_score(y_test, probabilities)\n",
    "roc_value"
   ]
  },
  {
   "cell_type": "markdown",
   "metadata": {},
   "source": [
    "The ROC AUC (area under the curve) for the random forest is 0.93"
   ]
  },
  {
   "cell_type": "markdown",
   "metadata": {},
   "source": [
    "#### Plotting the ROC Curves"
   ]
  },
  {
   "cell_type": "code",
   "execution_count": 32,
   "metadata": {},
   "outputs": [
    {
     "data": {
      "text/plain": [
       "<matplotlib.legend.Legend at 0x21f2ef30fd0>"
      ]
     },
     "execution_count": 32,
     "metadata": {},
     "output_type": "execute_result"
    },
    {
     "data": {
      "image/png": "[encoded data removed]",
      "text/plain": [
       "<Figure size 1152x432 with 1 Axes>"
      ]
     },
     "metadata": {
      "needs_background": "light"
     },
     "output_type": "display_data"
    }
   ],
   "source": [
    "\n",
    "fpr, tpr, thresholds = roc_curve(y_test, random_f.predict_proba(X_test)[:,1])\n",
    "plt.figure(figsize=(16,6))\n",
    "plt.rcParams['font.size'] = 16\n",
    "plt.plot(fpr, tpr, label='Random Forest model ' % roc_value)\n",
    "plt.plot([0,1], [0,1], 'r--')\n",
    "plt.xlabel('False Positive Rate')\n",
    "plt.ylabel('True Positive Rate')\n",
    "plt.title('ROC Curve')\n",
    "plt.legend(loc=\"lower right\")\n",
    "##saves graph as a png file\n",
    "#plt.savefig('Random_ROC')"
   ]
  },
  {
   "cell_type": "markdown",
   "metadata": {},
   "source": [
    "For Furter exploration:\n",
    "With more time, I would have liked to explore the following:\n",
    "- More preprocessing\n",
    "- combining features to make new ones\n",
    "- try other model parameters\n",
    "- Trying other models and combining them\n",
    "- setup a streamlined process"
   ]
  }
 ],
 "metadata": {
  "kernelspec": {
   "display_name": "Python 3",
   "language": "python",
   "name": "python3"
  },
  "language_info": {
   "codemirror_mode": {
    "name": "ipython",
    "version": 3
   },
   "file_extension": ".py",
   "mimetype": "text/x-python",
   "name": "python",
   "nbconvert_exporter": "python",
   "pygments_lexer": "ipython3",
   "version": "3.7.3"
  }
 },
 "nbformat": 4,
 "nbformat_minor": 2
}
